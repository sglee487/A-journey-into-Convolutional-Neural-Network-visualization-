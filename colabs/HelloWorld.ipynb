{
  "nbformat": 4,
  "nbformat_minor": 0,
  "metadata": {
    "colab": {
      "name": "HelloWorld.ipynb",
      "provenance": [],
      "include_colab_link": true
    },
    "kernelspec": {
      "name": "python3",
      "display_name": "Python 3"
    }
  },
  "cells": [
    {
      "cell_type": "markdown",
      "metadata": {
        "id": "view-in-github",
        "colab_type": "text"
      },
      "source": [
        "<a href=\"https://colab.research.google.com/github/sglee487/A-journey-into-Convolutional-Neural-Network-visualization-/blob/master/colabs/HelloWorld.ipynb\" target=\"_parent\"><img src=\"https://colab.research.google.com/assets/colab-badge.svg\" alt=\"Open In Colab\"/></a>"
      ]
    },
    {
      "cell_type": "markdown",
      "metadata": {
        "id": "K7Txs6YVb9bG"
      },
      "source": [
        "This is my **first colab**. \n",
        "\n",
        "Here we demonstrate:\n",
        "1.   How to print using Python print statement\n",
        "2.   Perform basic mathematical operations\n",
        "\n"
      ]
    },
    {
      "cell_type": "code",
      "metadata": {
        "id": "BvZuGTkTbXBZ",
        "outputId": "c7bbc89d-57b6-4972-cd89-b08fc94bede8",
        "colab": {
          "base_uri": "https://localhost:8080/"
        }
      },
      "source": [
        "print (\"Hello World!\")"
      ],
      "execution_count": 9,
      "outputs": [
        {
          "output_type": "stream",
          "name": "stdout",
          "text": [
            "Hello World!\n"
          ]
        }
      ]
    },
    {
      "cell_type": "markdown",
      "metadata": {
        "id": "TUUrgZvQcaQx"
      },
      "source": [
        "Perform addition of two numbers."
      ]
    },
    {
      "cell_type": "code",
      "metadata": {
        "id": "TlytVHShcZrI",
        "outputId": "5c155b2c-1cc2-4816-b21e-e28cf6f25e47",
        "colab": {
          "base_uri": "https://localhost:8080/"
        }
      },
      "source": [
        "a = 3\n",
        "b = 2\n",
        "y = a + b\n",
        "print (y)"
      ],
      "execution_count": 7,
      "outputs": [
        {
          "output_type": "stream",
          "name": "stdout",
          "text": [
            "5\n"
          ]
        }
      ]
    },
    {
      "cell_type": "markdown",
      "metadata": {
        "id": "HRxjggxKcmcO"
      },
      "source": [
        "Initialize the variables."
      ]
    },
    {
      "cell_type": "code",
      "metadata": {
        "id": "7RcEkP0vco0K"
      },
      "source": [
        "a = 10\n",
        "b = 20"
      ],
      "execution_count": 8,
      "outputs": []
    },
    {
      "cell_type": "markdown",
      "metadata": {
        "id": "OnWx0pYncrhe"
      },
      "source": [
        "Add $a$ and $b$ to get $a+b$."
      ]
    },
    {
      "cell_type": "code",
      "metadata": {
        "id": "5RgKcmxycyjX"
      },
      "source": [
        "y = a + b"
      ],
      "execution_count": 4,
      "outputs": []
    },
    {
      "cell_type": "markdown",
      "metadata": {
        "id": "7Rt8fpm3c0au"
      },
      "source": [
        "Print y"
      ]
    },
    {
      "cell_type": "code",
      "metadata": {
        "id": "65Rvh7LDc1_X",
        "outputId": "19b1ff20-912c-4644-8291-aacb31dc9193",
        "colab": {
          "base_uri": "https://localhost:8080/"
        }
      },
      "source": [
        "print (y)"
      ],
      "execution_count": 5,
      "outputs": [
        {
          "output_type": "stream",
          "name": "stdout",
          "text": [
            "30\n"
          ]
        }
      ]
    }
  ]
}